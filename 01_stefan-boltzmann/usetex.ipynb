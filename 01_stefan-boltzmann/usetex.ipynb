{
 "cells": [
  {
   "cell_type": "code",
   "execution_count": 1,
   "metadata": {},
   "outputs": [],
   "source": [
    "%matplotlib inline"
   ]
  },
  {
   "cell_type": "markdown",
   "metadata": {},
   "source": [
    "\n",
    "*************************\n",
    "Text rendering With LaTeX\n",
    "*************************\n",
    "\n",
    "Rendering text with LaTeX in Matplotlib.\n",
    "\n",
    "Matplotlib has the option to use LaTeX to manage all text layout.  This\n",
    "option is available with the following backends:\n",
    "\n",
    "* Agg\n",
    "* PS\n",
    "* PDF\n",
    "\n",
    "The LaTeX option is activated by setting ``text.usetex : True`` in your rc\n",
    "settings.  Text handling with matplotlib's LaTeX support is slower than\n",
    "matplotlib's very capable :doc:`mathtext </tutorials/text/mathtext>`, but is\n",
    "more flexible, since different LaTeX packages (font packages, math packages,\n",
    "etc.) can be used. The results can be striking, especially when you take care\n",
    "to use the same fonts in your figures as in the main document.\n",
    "\n",
    "Matplotlib's LaTeX support requires a working LaTeX_ installation, dvipng_\n",
    "(which may be included with your LaTeX installation), and Ghostscript_\n",
    "(GPL Ghostscript 9.0 or later is required). The executables for these\n",
    "external dependencies must all be located on your :envvar:`PATH`.\n",
    "\n",
    "There are a couple of options to mention, which can be changed using\n",
    ":doc:`rc settings </tutorials/introductory/customizing>`. Here is an example\n",
    "matplotlibrc file::\n",
    "\n",
    "  font.family        : serif\n",
    "  font.serif         : Times, Palatino, New Century Schoolbook, Bookman, Computer Modern Roman\n",
    "  font.sans-serif    : Helvetica, Avant Garde, Computer Modern Sans serif\n",
    "  font.cursive       : Zapf Chancery\n",
    "  font.monospace     : Courier, Computer Modern Typewriter\n",
    "\n",
    "  text.usetex        : true\n",
    "\n",
    "The first valid font in each family is the one that will be loaded. If the\n",
    "fonts are not specified, the Computer Modern fonts are used by default. All of\n",
    "the other fonts are Adobe fonts. Times and Palatino each have their own\n",
    "accompanying math fonts, while the other Adobe serif fonts make use of the\n",
    "Computer Modern math fonts. See the PSNFSS_ documentation for more details.\n",
    "\n",
    "To use LaTeX and select Helvetica as the default font, without editing\n",
    "matplotlibrc use::\n",
    "\n",
    "  from matplotlib import rc\n",
    "  rc('font',**{'family':'sans-serif','sans-serif':['Helvetica']})\n",
    "  ## for Palatino and other serif fonts use:\n",
    "  #rc('font',**{'family':'serif','serif':['Palatino']})\n",
    "  rc('text', usetex=True)\n",
    "\n",
    "Here is the standard example, `tex_demo.py`:\n",
    "\n",
    ".. figure:: ../../gallery/text_labels_and_annotations/images/sphx_glr_tex_demo_001.png\n",
    "   :target: ../../gallery/text_labels_and_annotations/tex_demo.html\n",
    "   :align: center\n",
    "   :scale: 50\n",
    "\n",
    "   TeX Demo\n",
    "\n",
    "Note that display math mode (``$$ e=mc^2 $$``) is not supported, but adding the\n",
    "command ``\\displaystyle``, as in `tex_demo.py`, will produce the same\n",
    "results.\n",
    "\n",
    "<div class=\"alert alert-info\"><h4>Note</h4><p>Certain characters require special escaping in TeX, such as::\n",
    "\n",
    "     # $ % & ~ _ ^ \\ { } \\( \\) \\[ \\]\n",
    "\n",
    "   Therefore, these characters will behave differently depending on\n",
    "   the rcParam ``text.usetex`` flag.</p></div>\n",
    "\n",
    "\n",
    "usetex with unicode\n",
    "===================\n",
    "\n",
    "It is also possible to use unicode strings with the LaTeX text manager, here is\n",
    "an example taken from `tex_demo.py`. The axis labels include Unicode text:\n",
    "\n",
    ".. figure:: ../../gallery/text_labels_and_annotations/images/sphx_glr_tex_demo_001.png\n",
    "   :target: ../../gallery/text_labels_and_annotations/tex_demo.html\n",
    "   :align: center\n",
    "   :scale: 50\n",
    "\n",
    "   TeX Unicode Demo\n",
    "\n",
    "\n",
    "Postscript options\n",
    "==================\n",
    "\n",
    "In order to produce encapsulated postscript files that can be embedded in a new\n",
    "LaTeX document, the default behavior of matplotlib is to distill the output,\n",
    "which removes some postscript operators used by LaTeX that are illegal in an\n",
    "eps file. This step produces results which may be unacceptable to some users,\n",
    "because the text is coarsely rasterized and converted to bitmaps, which are not\n",
    "scalable like standard postscript, and the text is not searchable. One\n",
    "workaround is to set ``ps.distiller.res`` to a higher value (perhaps 6000)\n",
    "in your rc settings, which will produce larger files but may look better and\n",
    "scale reasonably. A better workaround, which requires Poppler_ or Xpdf_, can be\n",
    "activated by changing the ``ps.usedistiller`` rc setting to ``xpdf``. This\n",
    "alternative produces postscript without rasterizing text, so it scales\n",
    "properly, can be edited in Adobe Illustrator, and searched text in pdf\n",
    "documents.\n",
    "\n",
    "\n",
    "Possible hangups\n",
    "================\n",
    "\n",
    "* On Windows, the :envvar:`PATH` environment variable may need to be modified\n",
    "  to include the directories containing the latex, dvipng and ghostscript\n",
    "  executables. See `environment-variables` and\n",
    "  `setting-windows-environment-variables` for details.\n",
    "\n",
    "* Using MiKTeX with Computer Modern fonts, if you get odd \\*Agg and PNG\n",
    "  results, go to MiKTeX/Options and update your format files\n",
    "\n",
    "* On Ubuntu and Gentoo, the base texlive install does not ship with\n",
    "  the type1cm package. You may need to install some of the extra\n",
    "  packages to get all the goodies that come bundled with other latex\n",
    "  distributions.\n",
    "\n",
    "* Some progress has been made so matplotlib uses the dvi files\n",
    "  directly for text layout. This allows latex to be used for text\n",
    "  layout with the pdf and svg backends, as well as the \\*Agg and PS\n",
    "  backends. In the future, a latex installation may be the only\n",
    "  external dependency.\n",
    "\n",
    "\n",
    "Troubleshooting\n",
    "===============\n",
    "\n",
    "* Try deleting your :file:`.matplotlib/tex.cache` directory. If you don't know\n",
    "  where to find :file:`.matplotlib`, see `locating-matplotlib-config-dir`.\n",
    "\n",
    "* Make sure LaTeX, dvipng and ghostscript are each working and on your\n",
    "  :envvar:`PATH`.\n",
    "\n",
    "* Make sure what you are trying to do is possible in a LaTeX document,\n",
    "  that your LaTeX syntax is valid and that you are using raw strings\n",
    "  if necessary to avoid unintended escape sequences.\n",
    "\n",
    "* Most problems reported on the mailing list have been cleared up by\n",
    "  upgrading Ghostscript_. If possible, please try upgrading to the\n",
    "  latest release before reporting problems to the list.\n",
    "\n",
    "* The ``text.latex.preamble`` rc setting is not officially supported. This\n",
    "  option provides lots of flexibility, and lots of ways to cause\n",
    "  problems. Please disable this option before reporting problems to\n",
    "  the mailing list.\n",
    "\n",
    "* If you still need help, please see `reporting-problems`\n",
    "\n"
   ]
  },
  {
   "cell_type": "code",
   "execution_count": 2,
   "metadata": {},
   "outputs": [
    {
     "name": "stderr",
     "output_type": "stream",
     "text": [
      "/usr/local/lib/python3.7/site-packages/matplotlib/figure.py:2369: UserWarning: This figure includes Axes that are not compatible with tight_layout, so results might be incorrect.\n",
      "  warnings.warn(\"This figure includes Axes that are not compatible \"\n"
     ]
    },
    {
     "data": {
      "image/png": "[encoded data removed]",
      "text/plain": [
       "<Figure size 432x288 with 1 Axes>"
      ]
     },
     "metadata": {
      "needs_background": "light"
     },
     "output_type": "display_data"
    }
   ],
   "source": [
    "import numpy as np\n",
    "import matplotlib\n",
    "matplotlib.rcParams['text.usetex'] = True\n",
    "import matplotlib.pyplot as plt\n",
    "\n",
    "\n",
    "t = np.linspace(0.0, 1.0, 100)\n",
    "s = np.cos(4 * np.pi * t) + 2\n",
    "\n",
    "fig, ax = plt.subplots(figsize=(6, 4), tight_layout=True)\n",
    "ax.plot(t, s)\n",
    "\n",
    "ax.set_xlabel(r'\\textbf{time (s)}')\n",
    "ax.set_ylabel('\\\\textit{Velocity (\\N{DEGREE SIGN}/sec)}', fontsize=16)\n",
    "ax.set_title(r'\\TeX\\ is Number $\\displaystyle\\sum_{n=1}^\\infty'\n",
    "             r'\\frac{-e^{i\\pi}}{2^n}$!', fontsize=16, color='r')\n",
    "plt.show()"
   ]
  },
  {
   "cell_type": "code",
   "execution_count": 4,
   "metadata": {},
   "outputs": [
    {
     "data": {
      "image/png": "[encoded data removed]",
      "text/plain": [
       "<Figure size 432x288 with 1 Axes>"
      ]
     },
     "metadata": {
      "needs_background": "light"
     },
     "output_type": "display_data"
    }
   ],
   "source": [
    "plt.plot(t,s)\n",
    "plt.xlabel('time')\n",
    "plt.ylabel('displacement')\n",
    "plt.grid(True)\n",
    "\n",
    "plt.tight_layout()\n",
    "plt.show()"
   ]
  },
  {
   "cell_type": "code",
   "execution_count": 5,
   "metadata": {},
   "outputs": [
    {
     "name": "stdout",
     "output_type": "stream",
     "text": [
      "['seaborn-dark', 'seaborn-darkgrid', 'seaborn-ticks', 'fivethirtyeight', 'seaborn-whitegrid', 'classic', '_classic_test', 'fast', 'seaborn-talk', 'seaborn-dark-palette', 'seaborn-bright', 'seaborn-pastel', 'grayscale', 'seaborn-notebook', 'ggplot', 'seaborn-colorblind', 'seaborn-muted', 'seaborn', 'Solarize_Light2', 'seaborn-paper', 'bmh', 'tableau-colorblind10', 'seaborn-white', 'dark_background', 'seaborn-poster', 'seaborn-deep']\n"
     ]
    }
   ],
   "source": [
    "print(plt.style.available)"
   ]
  },
  {
   "cell_type": "code",
   "execution_count": null,
   "metadata": {},
   "outputs": [],
   "source": []
  }
 ],
 "metadata": {
  "kernelspec": {
   "display_name": "Python 3",
   "language": "python",
   "name": "python3"
  },
  "language_info": {
   "codemirror_mode": {
    "name": "ipython",
    "version": 3
   },
   "file_extension": ".py",
   "mimetype": "text/x-python",
   "name": "python",
   "nbconvert_exporter": "python",
   "pygments_lexer": "ipython3",
   "version": "3.7.3"
  }
 },
 "nbformat": 4,
 "nbformat_minor": 1
}
