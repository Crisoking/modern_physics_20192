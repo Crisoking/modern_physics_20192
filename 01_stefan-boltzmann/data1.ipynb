{
 "cells": [
  {
   "cell_type": "markdown",
   "metadata": {},
   "source": [
    "# Stefan-Boltzmann\n",
    "### Aspectos importantes:\n",
    "##### V  es voltaje\n",
    "##### I es corriente\n",
    "##### ch es chi cuadrado con p valor\n",
    "##### c es el valor sólo de chi cuadrado\n",
    "##### s es el error promedio de cada grupo de datos\n",
    "##### TA es el array con los errores de cada uno\n",
    "##### P es la potencia \n",
    "##### R es resistencia de cada dato por ecuación R=V/I\n",
    "##### RT es R/R0, R0 es la primera resistencia de los datos \n"
   ]
  },
  {
   "cell_type": "code",
   "execution_count": 1,
   "metadata": {},
   "outputs": [],
   "source": [
    "import numpy as np\n",
    "import pandas as pd\n",
    "import matplotlib as mpl\n",
    "import matplotlib.pyplot as plt\n",
    "from scipy.optimize import curve_fit\n",
    "from scipy import constants\n",
    "import scipy.integrate as integrate\n",
    "import scipy.special as special\n",
    "from scipy.stats import chisquare"
   ]
  },
  {
   "cell_type": "code",
   "execution_count": 10,
   "metadata": {},
   "outputs": [],
   "source": [
    "data=pd.DataFrame({'Voltaje': [],'Corriente': []})"
   ]
  },
  {
   "cell_type": "code",
   "execution_count": 11,
   "metadata": {},
   "outputs": [],
   "source": [
    "datar=pd.read_csv(\"data.csv\", delimiter = ';',engine='python',usecols=[0,1],skiprows=1,skipfooter=1)\n",
    "datar.columns = [\"Voltaje\", \"Corriente\"]\n",
    "data=data.append(datar)"
   ]
  },
  {
   "cell_type": "code",
   "execution_count": 20,
   "metadata": {},
   "outputs": [],
   "source": [
    "V=data[\"Voltaje\"]\n",
    "I=data[\"Corriente\"]"
   ]
  },
  {
   "cell_type": "code",
   "execution_count": 23,
   "metadata": {},
   "outputs": [],
   "source": [
    "#Voltaje individual dividido en 13 tomas \n",
    "V1=V[0:21]\n",
    "V2=V[21:41]\n",
    "V3=V[41:61]\n",
    "V4=V[61:81]\n",
    "V5=V[81:101]\n",
    "V6=V[101:121]\n",
    "V7=V[121:141]\n",
    "V8=V[141:161]\n",
    "V9=V[161:181]\n",
    "V10=V[181:201]\n",
    "V11=V[201:221]\n",
    "V12=V[221:241]\n",
    "V13=V[241:261]\n",
    "\n",
    "#Corriente individual dividido en 13 tomas\n",
    "I1=I[:21]\n",
    "I2=I[21:41]\n",
    "I3=I[41:61]\n",
    "I4=I[61:81]\n",
    "I5=I[81:101]\n",
    "I6=I[101:121]\n",
    "I7=I[121:141]\n",
    "I8=I[141:161]\n",
    "I9=I[161:181]\n",
    "I10=I[181:201]\n",
    "I11=I[201:221]\n",
    "I12=I[221:241]\n",
    "I13=I[241:262]"
   ]
  },
  {
   "cell_type": "code",
   "execution_count": 141,
   "metadata": {
    "scrolled": false
   },
   "outputs": [],
   "source": [
    "from sklearn.linear_model import LinearRegression\n",
    "model = LinearRegression(fit_intercept=True)\n",
    "\n",
    "model.fit(V1[:, np.newaxis], I1)\n",
    "vfit= np.linspace(0.05, 1.1, 21)\n",
    "ifit = model.predict(vfit[:, np.newaxis])\n",
    "ch1=(chisquare([V1,I1],[vfit,ifit]))\n",
    "\n",
    "model.fit(V2[:, np.newaxis], I2)\n",
    "vfit = np.linspace(1.1, 2.15, 20)\n",
    "ifit = model.predict(vfit[:, np.newaxis])\n",
    "ch2=(chisquare([V2,I2],[vfit,ifit]))\n",
    "\n",
    "model.fit(V3[:, np.newaxis], I3)\n",
    "vfit = np.linspace(2, 3, 20)\n",
    "ifit = model.predict(vfit[:, np.newaxis])\n",
    "ch3=(chisquare([V3,I3],[vfit,ifit]))\n",
    "\n",
    "\n",
    "model.fit(V4[:, np.newaxis], I4)\n",
    "vfit = np.linspace(3, 4, 20)\n",
    "ifit = model.predict(vfit[:, np.newaxis])\n",
    "ch4=(chisquare([V4,I4],[vfit,ifit]))\n",
    "\n",
    "model.fit(V5[:, np.newaxis], I5)\n",
    "vfit = np.linspace(6.1, 8.5, 20)\n",
    "ifit = model.predict(vfit[:, np.newaxis])\n",
    "ch5=(chisquare([V5,I5],[vfit,ifit]))\n",
    "\n",
    "model.fit(V6[:, np.newaxis], I6)\n",
    "vfit = np.linspace(6, 10.8, 20)\n",
    "ifit = model.predict(vfit[:, np.newaxis])\n",
    "ch6=(chisquare([V6,I6],[vfit,ifit]))\n",
    "\n",
    "\n",
    "model.fit(V7[:, np.newaxis], I7)\n",
    "vfit = np.linspace(10, 18.5, 20)\n",
    "ifit = model.predict(vfit[:, np.newaxis])\n",
    "ch7=(chisquare([V7,I7],[vfit,ifit]))\n",
    "\n",
    "\n",
    "model.fit(V8[:, np.newaxis], I8)\n",
    "vfit = np.linspace(18.3, 27.7, 20)\n",
    "ifit = model.predict(vfit[:, np.newaxis])\n",
    "ch8=(chisquare([V8,I8],[vfit,ifit]))\n",
    "\n",
    "model.fit(V9[:, np.newaxis], I9)\n",
    "vfit = np.linspace(27, 37.1, 20)\n",
    "ifit = model.predict(vfit[:, np.newaxis])\n",
    "ch9=(chisquare([V9,I9],[vfit,ifit]))\n",
    "\n",
    "model.fit(V10[:, np.newaxis], I10)\n",
    "vfit = np.linspace(35.5, 46.5, 20)\n",
    "ifit = model.predict(vfit[:, np.newaxis])\n",
    "ch10=(chisquare([V10,I10],[vfit,ifit]))\n",
    "\n",
    "model.fit(V11[:, np.newaxis], I11)\n",
    "vfit = np.linspace(46.8, 66.7, 20)\n",
    "ifit = model.predict(vfit[:, np.newaxis])\n",
    "ch11=(chisquare([V11,I11],[vfit,ifit]))\n",
    "\n",
    "\n",
    "model.fit(V12[:, np.newaxis], I12)\n",
    "vfit = np.linspace(65.4, 91.3, 20)\n",
    "ifit = model.predict(vfit[:, np.newaxis])\n",
    "ch12=(chisquare([V12,I12],[vfit,ifit]))\n",
    "\n",
    "model.fit(V13[:, np.newaxis], I13)\n",
    "vfit = np.linspace(89.5, 112.5, 20)\n",
    "ifit = model.predict(vfit[:, np.newaxis])\n",
    "ch13=(chisquare([V13,I13],[vfit,ifit]))\n",
    "\n"
   ]
  },
  {
   "cell_type": "code",
   "execution_count": 142,
   "metadata": {},
   "outputs": [],
   "source": [
    "c1=(ch1[:1])\n",
    "c2=(ch2[:1])\n",
    "c3=(ch3[:1])\n",
    "c4=(ch4[:1])\n",
    "c5=(ch5[:1])\n",
    "c6=(ch6[:1])\n",
    "c7=(ch7[:1])\n",
    "c8=(ch8[:1])\n",
    "c9=(ch9[:1])\n",
    "c10=(ch10[:1])\n",
    "c11=(ch11[:1])\n",
    "c12=(ch12[:1])\n",
    "c13=(ch13[:1])\n",
    "\n",
    "m1=sum(c1)\n",
    "m2=sum(c2)\n",
    "m3=sum(c3)\n",
    "m4=sum(c4)\n",
    "m5=sum(c5)\n",
    "m6=sum(c6)\n",
    "m7=sum(c7)\n",
    "m8=sum(c8)\n",
    "m9=sum(c9)\n",
    "m10=sum(c10)\n",
    "m11=sum(c11)\n",
    "m12=sum(c12)\n",
    "m13=sum(c13)\n",
    "\n"
   ]
  },
  {
   "cell_type": "code",
   "execution_count": 143,
   "metadata": {},
   "outputs": [],
   "source": [
    "s1=sum(m1)/21\n",
    "s2=sum(m2)/20\n",
    "s3=sum(m3)/20\n",
    "s4=sum(m4)/20\n",
    "s5=sum(m5)/20\n",
    "s6=sum(m6)/20\n",
    "s7=sum(m7)/20\n",
    "s8=sum(m8)/20\n",
    "s9=sum(m9)/20\n",
    "s10=sum(m10)/2\n",
    "s11=sum(m11)/20\n",
    "s12=sum(m12)/20\n",
    "s13=sum(m13)/20"
   ]
  },
  {
   "cell_type": "code",
   "execution_count": 144,
   "metadata": {},
   "outputs": [],
   "source": [
    "TA=[s1,s2,s3,s4,s5,s6,s7,s8,s9,s10,s11,s12,s13]"
   ]
  },
  {
   "cell_type": "code",
   "execution_count": 145,
   "metadata": {},
   "outputs": [
    {
     "data": {
      "text/plain": [
       "<matplotlib.legend.Legend at 0x1a1fb2ed68>"
      ]
     },
     "execution_count": 145,
     "metadata": {},
     "output_type": "execute_result"
    },
    {
     "data": {
      "image/png": "[encoded data removed]",
      "text/plain": [
       "<Figure size 720x360 with 1 Axes>"
      ]
     },
     "metadata": {
      "needs_background": "light"
     },
     "output_type": "display_data"
    }
   ],
   "source": [
    "\n",
    "fig,ax1=plt.subplots(sharex='all', sharey='all',figsize=(10,5))\n",
    "x=np.linspace(0.05,0.05,14)\n",
    "plt.title(\"$\\chi^2$ per group of data\",fontsize=20)\n",
    "plt.plot(TA,\"o\",label= \"$\\chi^2$ per GoD\")\n",
    "plt.plot(x,\"k\", label=\"Significance level \")\n",
    "plt.ylabel(r'$\\chi^2$',fontsize=15)\n",
    "plt.xlabel(\"Group of data \",fontsize=15)\n",
    "plt.legend()"
   ]
  },
  {
   "cell_type": "markdown",
   "metadata": {},
   "source": [
    "slope1 = np.polyfit(np.log(V1), np.log(I1),1)\n",
    "slope2 = np.polyfit(np.log(V2), np.log(I2),1)\n",
    "slope3 = np.polyfit(np.log(V3), np.log(I3),1)\n",
    "slope4 = np.polyfit(np.log(V4), np.log(I4),1)\n",
    "slope5 = np.polyfit(np.log(V5), np.log(I5),1)\n",
    "slope6 = np.polyfit(np.log(V6), np.log(I6),1)\n",
    "slope7 = np.polyfit(np.log(V7), np.log(I7),1)\n",
    "slope8 = np.polyfit(np.log(V8), np.log(I8),1)\n",
    "slope9 = np.polyfit(np.log(V9), np.log(I9),1)\n",
    "slope10 = np.polyfit(np.log(V10), np.log(I10),1)\n",
    "slope11 = np.polyfit(np.log(V11), np.log(I11),1)\n",
    "slope12 = np.polyfit(np.log(V12), np.log(I12),1)\n",
    "slope13 = np.polyfit(np.log(V13), np.log(I13),1)\n"
   ]
  },
  {
   "cell_type": "code",
   "execution_count": 146,
   "metadata": {},
   "outputs": [],
   "source": [
    "R=np.array(V)/np.array(I)"
   ]
  },
  {
   "cell_type": "code",
   "execution_count": 147,
   "metadata": {},
   "outputs": [],
   "source": [
    "RT=R/0.05730337"
   ]
  },
  {
   "cell_type": "code",
   "execution_count": 148,
   "metadata": {},
   "outputs": [],
   "source": [
    "temp=np.linspace(0,3000,num = 261)"
   ]
  },
  {
   "cell_type": "code",
   "execution_count": 149,
   "metadata": {},
   "outputs": [],
   "source": [
    "P=np.array(V)*np.array(I)"
   ]
  },
  {
   "cell_type": "markdown",
   "metadata": {},
   "source": [
    "from matplotlib import pylab\n",
    "\n",
    "fig,ax1=plt.subplots(sharex='all', sharey='all',figsize=(15,10))\n",
    "def exponenial_func(x, a, b, c):\n",
    "    return a*np.exp(-b*x)+c\n",
    "\n",
    "\n",
    "popt, pcov = curve_fit(exponenial_func, x, y, p0=(1, 1e-6, 1))\n",
    "\n",
    "x = np.array(temp) #transform your data in a numpy array of floats \n",
    "y = np.array(P)\n",
    "xx = np.linspace(300, 6000, 1000)\n",
    "yy = exponenial_func(xx, *popt)\n",
    "\n",
    "plt.plot(x,y, label=\"Experimental values\")\n",
    "plt.plot(x,exponenial_func(x,*popt) , label=\"Fitted Values\")\n",
    "plt.xlabel(\"T\", fontsize=15)\n",
    "plt.ylabel(\"P\", fontsize=15)\n",
    "plt.title(\"Power vs Temperature\",fontsize=20)\n",
    "plt.legend(fontsize=15)"
   ]
  },
  {
   "cell_type": "code",
   "execution_count": 150,
   "metadata": {},
   "outputs": [],
   "source": [
    "rho0=5.5447485516168395"
   ]
  },
  {
   "cell_type": "code",
   "execution_count": 151,
   "metadata": {},
   "outputs": [],
   "source": [
    "rho=RT*rho0"
   ]
  },
  {
   "cell_type": "code",
   "execution_count": 152,
   "metadata": {},
   "outputs": [],
   "source": [
    "temp=np.linspace(300,3600,num = 261)\n",
    "z= np.polyfit(rho,temp,7)\n",
    "f=np.poly1d(z)\n",
    "tempt=np.array([f(x) for x in rho])"
   ]
  },
  {
   "cell_type": "code",
   "execution_count": null,
   "metadata": {},
   "outputs": [],
   "source": []
  }
 ],
 "metadata": {
  "kernelspec": {
   "display_name": "Python 3",
   "language": "python",
   "name": "python3"
  },
  "language_info": {
   "codemirror_mode": {
    "name": "ipython",
    "version": 3
   },
   "file_extension": ".py",
   "mimetype": "text/x-python",
   "name": "python",
   "nbconvert_exporter": "python",
   "pygments_lexer": "ipython3",
   "version": "3.7.3"
  }
 },
 "nbformat": 4,
 "nbformat_minor": 2
}
