{
 "cells": [
  {
   "cell_type": "code",
   "execution_count": 1,
   "metadata": {},
   "outputs": [],
   "source": [
    "import numpy as np\n",
    "import pandas as pd\n",
    "import matplotlib as mpl\n",
    "import matplotlib.pyplot as plt\n",
    "from scipy.optimize import curve_fit\n",
    "from scipy import constants\n",
    "import scipy.integrate as integrate\n",
    "import scipy.special as special\n",
    "from scipy.stats import chisquare"
   ]
  },
  {
   "cell_type": "code",
   "execution_count": 2,
   "metadata": {},
   "outputs": [],
   "source": [
    "#crea arrays \n",
    "data=pd.DataFrame({'n': [],'s': []})"
   ]
  },
  {
   "cell_type": "code",
   "execution_count": 3,
   "metadata": {},
   "outputs": [],
   "source": [
    "#mete lo del archivo en los arrays ya creados \n",
    "datar=pd.read_csv(\"data.txt\", delimiter = ',',engine='python',usecols=[0,1],skiprows=1,skipfooter=1)\n",
    "datar.columns = [\"n\", \"s\"]\n",
    "data=data.append(datar)"
   ]
  },
  {
   "cell_type": "code",
   "execution_count": 4,
   "metadata": {},
   "outputs": [],
   "source": [
    "#clasifica por toma de datos dependiendo el gros\n",
    "a1=data[:10]\n",
    "a2=data[10:18]\n",
    "a3=data[18:30]\n",
    "a4=data[30:46]\n",
    "a5=data[46:64]\n",
    "a6=data[64:84]\n",
    "a7=data[84:104]\n",
    "a8=data[104:124]"
   ]
  },
  {
   "cell_type": "code",
   "execution_count": 5,
   "metadata": {},
   "outputs": [],
   "source": [
    "s1=a1[\"s\"]/100\n",
    "s2=a2[\"s\"]/100\n",
    "s3=a3[\"s\"]/100\n",
    "s4=a4[\"s\"]/100\n",
    "s5=a5[\"s\"]/100\n",
    "s6=a6[\"s\"]/100\n",
    "s7=a7[\"s\"]/100\n",
    "s8=a8[\"s\"]/100\n",
    "n1=a1[\"n\"]\n",
    "n2=a2[\"n\"]\n",
    "n3=a3[\"n\"]\n",
    "n4=a4[\"n\"]\n",
    "n5=a5[\"n\"]\n",
    "n6=a6[\"n\"]\n",
    "n7=a7[\"n\"]\n",
    "n8=a8[\"n\"]"
   ]
  },
  {
   "cell_type": "code",
   "execution_count": 6,
   "metadata": {},
   "outputs": [],
   "source": [
    "w1=(np.sin((np.arctan(s1/1.205))))*(0.000073125)\n",
    "w2=(np.sin((np.arctan(s2/4.63))))*(0.000073125)*2\n",
    "w3=(np.sin((np.arctan(s3/3.4))))*(0.000073125)*3\n",
    "w4=(np.sin((np.arctan(s4/4.63))))*(0.000073125)*4\n",
    "w5=(np.sin((np.arctan(s5/4.63))))*(0.000073125)*5\n",
    "w6=(np.sin((np.arctan(s6/4.63))))*(0.000073125)*6\n",
    "w7=(np.sin((np.arctan(s7/4.63))))*(0.000073125)*7\n",
    "w8=(np.sin((np.arctan(s8/4.63))))*(0.000073125)*8"
   ]
  },
  {
   "cell_type": "code",
   "execution_count": 7,
   "metadata": {},
   "outputs": [],
   "source": [
    "l1=w1/n1\n",
    "l2=w2/n2\n",
    "l3=w3/n3\n",
    "l4=w4/n4\n",
    "l5=w5/n5\n",
    "l6=w6/n6\n",
    "l7=w7/n7\n",
    "l8=w8/n8"
   ]
  },
  {
   "cell_type": "code",
   "execution_count": 8,
   "metadata": {},
   "outputs": [],
   "source": [
    "c1=np.mean(l1)\n",
    "c2=np.mean(l2)\n",
    "c3=np.mean(l3)\n",
    "c4=np.mean(l4)\n",
    "c5=np.mean(l5)\n",
    "c6=np.mean(l6)\n",
    "c7=np.mean(l7)\n",
    "c8=np.mean(l8)"
   ]
  },
  {
   "cell_type": "code",
   "execution_count": 9,
   "metadata": {},
   "outputs": [],
   "source": [
    "T=[c1,c2,c3,c4,c5,c6,c7,c8]"
   ]
  },
  {
   "cell_type": "code",
   "execution_count": 10,
   "metadata": {},
   "outputs": [
    {
     "data": {
      "text/plain": [
       "7.519872561695008e-07"
      ]
     },
     "execution_count": 10,
     "metadata": {},
     "output_type": "execute_result"
    }
   ],
   "source": [
    "np.mean(T)"
   ]
  },
  {
   "cell_type": "code",
   "execution_count": 11,
   "metadata": {},
   "outputs": [
    {
     "data": {
      "text/plain": [
       "[6.050701446374961e-07,\n",
       " 6.858189977582631e-07,\n",
       " 6.17124988800851e-07,\n",
       " 7.760881861877603e-07,\n",
       " 9.956539648073363e-07,\n",
       " 9.633732272957186e-07,\n",
       " 6.71681400871992e-07,\n",
       " 7.010871389965892e-07]"
      ]
     },
     "execution_count": 11,
     "metadata": {},
     "output_type": "execute_result"
    }
   ],
   "source": [
    "T"
   ]
  },
  {
   "cell_type": "code",
   "execution_count": 12,
   "metadata": {},
   "outputs": [
    {
     "data": {
      "text/plain": [
       "1.404585828991471e-07"
      ]
     },
     "execution_count": 12,
     "metadata": {},
     "output_type": "execute_result"
    }
   ],
   "source": [
    "np.std(T)"
   ]
  },
  {
   "cell_type": "code",
   "execution_count": 13,
   "metadata": {},
   "outputs": [],
   "source": [
    "TS=[c1,c2,c3,c4,c7,c8]"
   ]
  },
  {
   "cell_type": "code",
   "execution_count": 31,
   "metadata": {},
   "outputs": [],
   "source": [
    "lmb= 632.8*10**(-9)"
   ]
  },
  {
   "cell_type": "code",
   "execution_count": 32,
   "metadata": {},
   "outputs": [],
   "source": [
    "d11=lmb/(np.sin((np.arctan(4.6/12.5))))\n",
    "d12=lmb/(np.sin((np.arctan(4.8/12.5))))\n",
    "d21=lmb/(np.sin((np.arctan(9.9/25.5))))\n",
    "d22=lmb/(np.sin((np.arctan(9.8/25.5))))\n",
    "d31=lmb/(np.sin((np.arctan(12/30.6))))\n",
    "d32=lmb/(np.sin((np.arctan(12/30.6))))\n",
    "d41=lmb/(np.sin((np.arctan(14.8/37.8))))\n",
    "d42=lmb/(np.sin((np.arctan(14.5/37.8))))\n",
    "d51=lmb/(np.sin((np.arctan(22/58.1))))\n",
    "d52=lmb/(np.sin((np.arctan(22.2/58.1))))"
   ]
  },
  {
   "cell_type": "code",
   "execution_count": 33,
   "metadata": {},
   "outputs": [],
   "source": [
    "D1=(d11+d12)/2\n",
    "D2=(d21+d22)/2\n",
    "D3=(d31+d32)/2\n",
    "D4=(d41+d42)/2\n",
    "D5=(d51+d52)/2"
   ]
  },
  {
   "cell_type": "code",
   "execution_count": 34,
   "metadata": {},
   "outputs": [],
   "source": [
    "DT=(D1+D2+D3+D4+D5)/5"
   ]
  },
  {
   "cell_type": "code",
   "execution_count": 35,
   "metadata": {},
   "outputs": [
    {
     "data": {
      "text/plain": [
       "1.7638934146453677e-06"
      ]
     },
     "execution_count": 35,
     "metadata": {},
     "output_type": "execute_result"
    }
   ],
   "source": [
    "DT"
   ]
  },
  {
   "cell_type": "code",
   "execution_count": 36,
   "metadata": {},
   "outputs": [
    {
     "name": "stdout",
     "output_type": "stream",
     "text": [
      "1.7987713290198497e-06 1.7562248179555005e-06 1.733282980242984e-06 1.751261160248426e-06 1.7799267857600784e-06\n"
     ]
    }
   ],
   "source": [
    "print (D1,D2,D3,D4,D5)"
   ]
  },
  {
   "cell_type": "code",
   "execution_count": 37,
   "metadata": {},
   "outputs": [
    {
     "data": {
      "text/plain": [
       "2.292997087245977e-08"
      ]
     },
     "execution_count": 37,
     "metadata": {},
     "output_type": "execute_result"
    }
   ],
   "source": [
    "np.std([D1,D2,D3,D4,D5])"
   ]
  },
  {
   "cell_type": "code",
   "execution_count": 38,
   "metadata": {},
   "outputs": [
    {
     "data": {
      "text/plain": [
       "566927.6792447524"
      ]
     },
     "execution_count": 38,
     "metadata": {},
     "output_type": "execute_result"
    }
   ],
   "source": [
    "1/DT"
   ]
  },
  {
   "cell_type": "code",
   "execution_count": 39,
   "metadata": {},
   "outputs": [
    {
     "data": {
      "text/plain": [
       "566.9276792447524"
      ]
     },
     "execution_count": 39,
     "metadata": {},
     "output_type": "execute_result"
    }
   ],
   "source": [
    "(1/DT)/1000"
   ]
  },
  {
   "cell_type": "code",
   "execution_count": null,
   "metadata": {},
   "outputs": [],
   "source": []
  }
 ],
 "metadata": {
  "kernelspec": {
   "display_name": "Python 3",
   "language": "python",
   "name": "python3"
  },
  "language_info": {
   "codemirror_mode": {
    "name": "ipython",
    "version": 3
   },
   "file_extension": ".py",
   "mimetype": "text/x-python",
   "name": "python",
   "nbconvert_exporter": "python",
   "pygments_lexer": "ipython3",
   "version": "3.7.3"
  }
 },
 "nbformat": 4,
 "nbformat_minor": 2
}
