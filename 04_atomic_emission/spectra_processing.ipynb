{
 "cells": [
  {
   "cell_type": "code",
   "execution_count": 1,
   "metadata": {},
   "outputs": [],
   "source": [
    "import numpy as np\n",
    "import matplotlib.pyplot as plt\n",
    "import matplotlib as mpl\n",
    "import scipy\n",
    "import csv\n",
    "from scipy.optimize import curve_fit"
   ]
  },
  {
   "cell_type": "code",
   "execution_count": 49,
   "metadata": {},
   "outputs": [],
   "source": [
    "# optimal plot width for \\Latex doc\n",
    "figw = 3.404"
   ]
  },
  {
   "cell_type": "markdown",
   "metadata": {},
   "source": [
    "## Hidrogen"
   ]
  },
  {
   "cell_type": "code",
   "execution_count": 2,
   "metadata": {},
   "outputs": [],
   "source": [
    "# slit separation in metres\n",
    "b = 0.001/600"
   ]
  },
  {
   "cell_type": "code",
   "execution_count": 3,
   "metadata": {},
   "outputs": [],
   "source": [
    "# grating-lamp distance\n",
    "d = np.linspace(40,80,5)"
   ]
  },
  {
   "cell_type": "code",
   "execution_count": 4,
   "metadata": {},
   "outputs": [],
   "source": [
    "# pixel positions from each side, different lengths\n",
    "h1 = np.array([[172,178],[195,201],[270,283]])\n",
    "h2 = np.array([[169,178],[190,203],[264,286]])\n",
    "h3 = np.array([[167,183],[188,208],[260,296]])\n",
    "h4 = np.array([[180,172],[203,191],[290,265]])\n",
    "h5 = np.array([[175,172],[198,196],[277,276]])"
   ]
  },
  {
   "cell_type": "code",
   "execution_count": 5,
   "metadata": {},
   "outputs": [],
   "source": [
    "# measured wavelengths\n",
    "hl1 = b*np.sin(np.arctan((h1/16)/(d[0])))\n",
    "hl2 = b*np.sin(np.arctan((h2/14)/(d[1]-5)))\n",
    "hl3 = b*np.sin(np.arctan((h3/12)/(d[2]-5)))\n",
    "hl4 = b*np.sin(np.arctan((h4/10)/(d[3]-5)))\n",
    "hl5 = b*np.sin(np.arctan((h5/9)/(d[4]-5)))"
   ]
  },
  {
   "cell_type": "code",
   "execution_count": 6,
   "metadata": {},
   "outputs": [],
   "source": [
    "# hidrogen spectral series\n",
    "h_alpha = np.mean([np.mean(hl1[2]),np.mean(hl2[2]),np.mean(hl3[2]),np.mean(hl4[2]),np.mean(hl5[2])])\n",
    "h_beta = np.mean([np.mean(hl1[1]),np.mean(hl2[1]),np.mean(hl3[1]),np.mean(hl4[1]),np.mean(hl5[1])])\n",
    "h_gamma = np.mean([np.mean(hl1[0]),np.mean(hl2[0]),np.mean(hl3[0]),np.mean(hl4[0]),np.mean(hl5[0])])"
   ]
  },
  {
   "cell_type": "code",
   "execution_count": 7,
   "metadata": {},
   "outputs": [
    {
     "name": "stdout",
     "output_type": "stream",
     "text": [
      "alpha: 6.5197E-07, beta: 4.8357E-07, gamma: 4.3193E-07\n"
     ]
    }
   ],
   "source": [
    "print ('alpha: %.4E, beta: %.4E, gamma: %.4E' %(h_alpha, h_beta, h_gamma))"
   ]
  },
  {
   "cell_type": "code",
   "execution_count": 10,
   "metadata": {},
   "outputs": [],
   "source": [
    "h_err = np.array([np.std([np.mean(hl1[2]),np.mean(hl2[2]),np.mean(hl3[2]),np.mean(hl4[2]),np.mean(hl5[2])]),\n",
    "                  np.std([np.mean(hl1[1]),np.mean(hl2[1]),np.mean(hl3[1]),np.mean(hl4[1]),np.mean(hl5[1])]),\n",
    "                  np.std([np.mean(hl1[0]),np.mean(hl2[0]),np.mean(hl3[0]),np.mean(hl4[0]),np.mean(hl5[0])])])"
   ]
  },
  {
   "cell_type": "code",
   "execution_count": 29,
   "metadata": {},
   "outputs": [],
   "source": [
    "n = np.linspace(3,5,3)\n",
    "wl_h = np.array([h_alpha,h_beta,h_gamma])\n",
    "theo = 1/(10973731.6*(1/4-1/(n**2)))"
   ]
  },
  {
   "cell_type": "code",
   "execution_count": 56,
   "metadata": {},
   "outputs": [
    {
     "data": {
      "image/png": "[encoded data removed]",
      "text/plain": [
       "<Figure size 245.088x210.992 with 1 Axes>"
      ]
     },
     "metadata": {
      "needs_background": "light"
     },
     "output_type": "display_data"
    }
   ],
   "source": [
    "plt.figure(figsize=(figw,figw/1.1616))\n",
    "\n",
    "plt.errorbar(n,wl_h*10**9, label='Experimental', yerr=h_err*10**9, elinewidth=1, capsize=2, marker='s', ms=3, color='k', lw=0)\n",
    "plt.scatter(n,theo*10**9, label='Theoretical')\n",
    "plt.xlabel('Energy level')\n",
    "plt.ylabel('Wavelength (nm)')\n",
    "\n",
    "plt.xticks(np.linspace(2,5,4))\n",
    "plt.xlim(2,5.5)\n",
    "\n",
    "plt.legend()\n",
    "plt.grid(True)\n",
    "plt.tight_layout()\n",
    "\n",
    "plt.savefig('h.pdf')"
   ]
  },
  {
   "cell_type": "markdown",
   "metadata": {},
   "source": [
    "## Helium"
   ]
  },
  {
   "cell_type": "code",
   "execution_count": 58,
   "metadata": {},
   "outputs": [],
   "source": [
    "# pixel positions from each side, different lengths\n",
    "he1 = np.array([[203,216],[217,230],[226,240],[232,246],[275,293],[316,340]])\n",
    "he2 = np.array([[212,220],[226,235],[238,246],[243,251],[289,301],[333,348]])\n",
    "he3 = np.array([[212,224],[225,237],[237,250],[242,255],[287,305],[332,355]])\n",
    "he4 = np.array([[212,220],[224,234],[234,246],[240,251],[285,299],[331,346]])\n",
    "he5 = np.array([[216,220],[228,234],[239,246],[244,251],[291,299],[338,346]])"
   ]
  },
  {
   "cell_type": "code",
   "execution_count": 59,
   "metadata": {},
   "outputs": [],
   "source": [
    "# measured wavelengths\n",
    "hel1 = b*np.sin(np.arctan((he1/16)/(d[0])))\n",
    "hel2 = b*np.sin(np.arctan((he2/16)/(d[1]-5)))\n",
    "hel3 = b*np.sin(np.arctan((he3/14)/(d[2]-5)))\n",
    "hel4 = b*np.sin(np.arctan((he4/12)/(d[3]-5)))\n",
    "hel5 = b*np.sin(np.arctan((he5/11)/(d[4]-5)))"
   ]
  },
  {
   "cell_type": "code",
   "execution_count": 60,
   "metadata": {},
   "outputs": [],
   "source": [
    "# helium spectral series\n",
    "he_alpha = np.mean([np.mean(hel1[5]),np.mean(hel2[5]),np.mean(hel3[5]),np.mean(hel4[5]),np.mean(hel5[5])])\n",
    "he_beta = np.mean([np.mean(hel1[4]),np.mean(hel2[4]),np.mean(hel3[4]),np.mean(hel4[4]),np.mean(hel5[4])])\n",
    "he_gamma = np.mean([np.mean(hel1[3]),np.mean(hel2[3]),np.mean(hel3[3]),np.mean(hel4[3]),np.mean(hel5[3])])\n",
    "he_delta = np.mean([np.mean(hel1[2]),np.mean(hel2[2]),np.mean(hel3[2]),np.mean(hel4[2]),np.mean(hel5[2])])\n",
    "he_epsilon = np.mean([np.mean(hel1[1]),np.mean(hel2[1]),np.mean(hel3[1]),np.mean(hel4[1]),np.mean(hel5[1])])\n",
    "he_zeta = np.mean([np.mean(hel1[0]),np.mean(hel2[0]),np.mean(hel3[0]),np.mean(hel4[0]),np.mean(hel5[0])])"
   ]
  },
  {
   "cell_type": "code",
   "execution_count": 61,
   "metadata": {},
   "outputs": [
    {
     "name": "stdout",
     "output_type": "stream",
     "text": [
      "alpha: 6.9057E-07, beta: 6.1021E-07, gamma: 5.2297E-07, delta: 5.1273E-07, epsilon: 4.9106E-07, zeta: 4.6438E-07\n"
     ]
    }
   ],
   "source": [
    "print ('alpha: %.4E, beta: %.4E, gamma: %.4E, delta: %.4E, epsilon: %.4E, zeta: %.4E' %(he_alpha, he_beta, he_gamma,\n",
    "                                                                                       he_delta, he_epsilon, he_zeta))"
   ]
  },
  {
   "cell_type": "code",
   "execution_count": 64,
   "metadata": {},
   "outputs": [],
   "source": [
    "he_err = np.array([np.std([np.mean(hel1[5]),np.mean(hel2[5]),np.mean(hel3[5]),np.mean(hel4[5]),np.mean(hel5[5])]),\n",
    "                  np.std([np.mean(hel1[4]),np.mean(hel2[4]),np.mean(hel3[4]),np.mean(hel4[4]),np.mean(hel5[4])]),\n",
    "                  np.std([np.mean(hel1[3]),np.mean(hel2[3]),np.mean(hel3[3]),np.mean(hel4[3]),np.mean(hel5[3])]),\n",
    "                  np.std([np.mean(hel1[2]),np.mean(hel2[2]),np.mean(hel3[2]),np.mean(hel4[2]),np.mean(hel5[2])]),\n",
    "                  np.std([np.mean(hel1[1]),np.mean(hel2[1]),np.mean(hel3[1]),np.mean(hel4[1]),np.mean(hel5[1])]),\n",
    "                  np.std([np.mean(hel1[0]),np.mean(hel2[0]),np.mean(hel3[0]),np.mean(hel4[0]),np.mean(hel5[0])])])"
   ]
  },
  {
   "cell_type": "code",
   "execution_count": 66,
   "metadata": {},
   "outputs": [
    {
     "data": {
      "text/plain": [
       "array([42.18779361, 40.02525138, 36.04920356, 34.8262782 , 34.78364417,\n",
       "       31.98189799])"
      ]
     },
     "execution_count": 66,
     "metadata": {},
     "output_type": "execute_result"
    }
   ],
   "source": [
    "he_err*10**9"
   ]
  },
  {
   "cell_type": "markdown",
   "metadata": {},
   "source": [
    "## Mercury"
   ]
  },
  {
   "cell_type": "code",
   "execution_count": 68,
   "metadata": {},
   "outputs": [],
   "source": [
    "# pixel positions from each side, different lengths\n",
    "hg1 = np.array([[212,202],[273,257],[291,274]])\n",
    "hg2 = np.array([[222,206],[289,261],[308,277]])\n",
    "hg3 = np.array([[236,206],[308,260],[330,276]])\n",
    "hg4 = np.array([[222,208],[286,264],[306,282]])\n",
    "hg5 = np.array([[222,205],[286,259],[305,276]])"
   ]
  },
  {
   "cell_type": "code",
   "execution_count": 69,
   "metadata": {},
   "outputs": [],
   "source": [
    "# measured wavelengths\n",
    "hgl1 = b*np.sin(np.arctan((hg1/20)/(d[0])))\n",
    "hgl2 = b*np.sin(np.arctan((hg2/16)/(d[1]-5)))\n",
    "hgl3 = b*np.sin(np.arctan((hg3/14)/(d[2]-5)))\n",
    "hgl4 = b*np.sin(np.arctan((hg4/11)/(d[3]-5)))\n",
    "hgl5 = b*np.sin(np.arctan((hg5/9)/(d[4]-5)))"
   ]
  },
  {
   "cell_type": "code",
   "execution_count": 77,
   "metadata": {},
   "outputs": [],
   "source": [
    "hg_alpha = np.mean([np.mean(hgl1[2][1]),np.mean(hgl2[2][1]),np.mean(hgl3[2][1]),np.mean(hgl4[2][1]),np.mean(hgl5[2][1])])\n",
    "hg_beta = np.mean([np.mean(hgl1[1]),np.mean(hgl2[1]),np.mean(hgl3[1]),np.mean(hgl4[1]),np.mean(hgl5[1])])\n",
    "hg_gamma = np.mean([np.mean(hgl1[0]),np.mean(hgl2[0]),np.mean(hgl3[0]),np.mean(hgl4[0]),np.mean(hgl5[0])])"
   ]
  },
  {
   "cell_type": "code",
   "execution_count": 78,
   "metadata": {},
   "outputs": [
    {
     "name": "stdout",
     "output_type": "stream",
     "text": [
      "alpha: 5.8863E-07, beta: 5.8326E-07, gamma: 4.6684E-07\n"
     ]
    }
   ],
   "source": [
    "print ('alpha: %.4E, beta: %.4E, gamma: %.4E' %(hg_alpha, hg_beta, hg_gamma))"
   ]
  },
  {
   "cell_type": "code",
   "execution_count": 73,
   "metadata": {},
   "outputs": [],
   "source": [
    "hg_err = np.array([np.std([np.mean(hgl1[2]),np.mean(hgl2[2]),np.mean(hgl3[2]),np.mean(hgl4[2]),np.mean(hgl5[2])]),\n",
    "                  np.std([np.mean(hgl1[1]),np.mean(hgl2[1]),np.mean(hgl3[1]),np.mean(hgl4[1]),np.mean(hgl5[1])]),\n",
    "                  np.std([np.mean(hgl1[0]),np.mean(hgl2[0]),np.mean(hgl3[0]),np.mean(hgl4[0]),np.mean(hgl5[0])])])"
   ]
  },
  {
   "cell_type": "code",
   "execution_count": 74,
   "metadata": {},
   "outputs": [
    {
     "data": {
      "text/plain": [
       "array([3.46874257e-08, 3.32796479e-08, 2.82674503e-08])"
      ]
     },
     "execution_count": 74,
     "metadata": {},
     "output_type": "execute_result"
    }
   ],
   "source": [
    "hg_err"
   ]
  },
  {
   "cell_type": "code",
   "execution_count": 76,
   "metadata": {},
   "outputs": [
    {
     "name": "stdout",
     "output_type": "stream",
     "text": [
      "[5.69728967e-07 5.40036621e-07] [6.55504580e-07 5.98443235e-07] [6.56532164e-07 5.62367360e-07] [6.55756168e-07 6.11499858e-07] [6.86279296e-07 6.30787759e-07]\n"
     ]
    }
   ],
   "source": [
    "print (hgl1[2],hgl2[2],hgl3[2],hgl4[2],hgl5[2])"
   ]
  },
  {
   "cell_type": "code",
   "execution_count": 79,
   "metadata": {},
   "outputs": [
    {
     "data": {
      "text/plain": [
       "1.6666666666666667e-06"
      ]
     },
     "execution_count": 79,
     "metadata": {},
     "output_type": "execute_result"
    }
   ],
   "source": [
    "b"
   ]
  },
  {
   "cell_type": "code",
   "execution_count": null,
   "metadata": {},
   "outputs": [],
   "source": []
  }
 ],
 "metadata": {
  "kernelspec": {
   "display_name": "Python 3",
   "language": "python",
   "name": "python3"
  },
  "language_info": {
   "codemirror_mode": {
    "name": "ipython",
    "version": 3
   },
   "file_extension": ".py",
   "mimetype": "text/x-python",
   "name": "python",
   "nbconvert_exporter": "python",
   "pygments_lexer": "ipython3",
   "version": "3.7.4"
  }
 },
 "nbformat": 4,
 "nbformat_minor": 2
}
