{
 "cells": [
  {
   "cell_type": "code",
   "execution_count": 1,
   "metadata": {},
   "outputs": [],
   "source": [
    "import numpy as np\n",
    "import matplotlib.pyplot as plt\n",
    "import matplotlib as mpl\n",
    "import scipy\n",
    "import csv\n",
    "from scipy.optimize import curve_fit"
   ]
  },
  {
   "cell_type": "code",
   "execution_count": 2,
   "metadata": {},
   "outputs": [],
   "source": [
    "b = 0.001/600\n",
    "d = np.linspace(20,60,5)\n",
    "rm = []\n",
    "rM = []\n",
    "am = []\n",
    "aM = []\n",
    "gm = []\n",
    "gM = []\n",
    "bm = []\n",
    "bM = []"
   ]
  },
  {
   "cell_type": "code",
   "execution_count": 3,
   "metadata": {},
   "outputs": [],
   "source": [
    "with open('red.csv', 'r') as data:\n",
    "    csv_reader = csv.reader(data)\n",
    "    \n",
    "    for line in csv_reader:\n",
    "        rm.append([float(line[1]),float(line[3])])\n",
    "        rM.append([float(line[2]),float(line[4])])\n",
    "with open('amber.csv', 'r') as data:\n",
    "    csv_reader = csv.reader(data)\n",
    "    \n",
    "    for line in csv_reader:\n",
    "        am.append([float(line[1]),float(line[3])])\n",
    "        aM.append([float(line[2]),float(line[4])])\n",
    "        \n",
    "with open('green.csv', 'r') as data:\n",
    "    csv_reader = csv.reader(data)\n",
    "    \n",
    "    for line in csv_reader:\n",
    "        gm.append([float(line[1]),float(line[3])])\n",
    "        gM.append([float(line[2]),float(line[4])])\n",
    "        \n",
    "with open('blue.csv', 'r') as data:\n",
    "    csv_reader = csv.reader(data)\n",
    "    \n",
    "    for line in csv_reader:\n",
    "        bm.append([float(line[1]),float(line[3])])\n",
    "        bM.append([float(line[2]),float(line[4])])"
   ]
  },
  {
   "cell_type": "code",
   "execution_count": 7,
   "metadata": {
    "scrolled": true
   },
   "outputs": [],
   "source": [
    "rm = np.array([np.mean(rm[0]),np.mean(rm[1]),np.mean(rm[2]),np.mean(rm[3]),np.mean(rm[4])])\n",
    "rM = np.array([np.mean(rM[0]),np.mean(rM[1]),np.mean(rM[2]),np.mean(rM[3]),np.mean(rM[4])])\n",
    "am = np.array([np.mean(am[0]),np.mean(am[1]),np.mean(am[2]),np.mean(am[3]),np.mean(am[4])])\n",
    "aM = np.array([np.mean(aM[0]),np.mean(aM[1]),np.mean(aM[2]),np.mean(aM[3]),np.mean(aM[4])])\n",
    "gm = np.array([np.mean(gm[0]),np.mean(gm[1]),np.mean(gm[2]),np.mean(gm[3]),np.mean(gm[4])])\n",
    "gM = np.array([np.mean(gM[0]),np.mean(gM[1]),np.mean(gM[2]),np.mean(gM[3]),np.mean(gM[4])])\n",
    "bm = np.array([np.mean(bm[0]),np.mean(bm[1]),np.mean(bm[2]),np.mean(bm[3]),np.mean(bm[4])])\n",
    "bM = np.array([np.mean(bM[0]),np.mean(bM[1]),np.mean(bM[2]),np.mean(bM[3]),np.mean(bM[4])])"
   ]
  },
  {
   "cell_type": "code",
   "execution_count": 8,
   "metadata": {},
   "outputs": [],
   "source": [
    "rmax = b*np.sin(np.arctan(rM/d))\n",
    "rmin = b*np.sin(np.arctan(rm/d))\n",
    "amax = b*np.sin(np.arctan(aM/d))\n",
    "amin = b*np.sin(np.arctan(am/d))\n",
    "gmax = b*np.sin(np.arctan(gM/d))\n",
    "gmin = b*np.sin(np.arctan(gm/d))\n",
    "bmax = b*np.sin(np.arctan(bM/d))\n",
    "bmin = b*np.sin(np.arctan(bm/d))"
   ]
  },
  {
   "cell_type": "code",
   "execution_count": 19,
   "metadata": {},
   "outputs": [
    {
     "data": {
      "text/plain": [
       "6.243005198953653e-07"
      ]
     },
     "execution_count": 19,
     "metadata": {},
     "output_type": "execute_result"
    }
   ],
   "source": [
    "np.mean(bmax)"
   ]
  },
  {
   "cell_type": "code",
   "execution_count": 20,
   "metadata": {},
   "outputs": [
    {
     "data": {
      "text/plain": [
       "4.233925910584445e-07"
      ]
     },
     "execution_count": 20,
     "metadata": {},
     "output_type": "execute_result"
    }
   ],
   "source": [
    "np.mean(bmin)"
   ]
  },
  {
   "cell_type": "code",
   "execution_count": null,
   "metadata": {},
   "outputs": [],
   "source": []
  }
 ],
 "metadata": {
  "kernelspec": {
   "display_name": "Python 3",
   "language": "python",
   "name": "python3"
  },
  "language_info": {
   "codemirror_mode": {
    "name": "ipython",
    "version": 3
   },
   "file_extension": ".py",
   "mimetype": "text/x-python",
   "name": "python",
   "nbconvert_exporter": "python",
   "pygments_lexer": "ipython3",
   "version": "3.7.4"
  }
 },
 "nbformat": 4,
 "nbformat_minor": 2
}
