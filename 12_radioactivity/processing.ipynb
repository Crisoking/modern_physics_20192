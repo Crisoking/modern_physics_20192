{
 "cells": [
  {
   "cell_type": "code",
   "execution_count": 1,
   "metadata": {},
   "outputs": [],
   "source": [
    "import numpy as np\n",
    "from matplotlib import pyplot as plt\n",
    "from scipy.optimize import curve_fit"
   ]
  },
  {
   "cell_type": "code",
   "execution_count": 2,
   "metadata": {},
   "outputs": [],
   "source": [
    "def slope_unc (x,y,fit):\n",
    "    sqsum = sum((y-fit(x))**2)\n",
    "    Delta = x.size*sum(x**2)-(sum(x))**2\n",
    "    sigma = np.sqrt(1/(x.size-2)*sqsum)\n",
    "    return (sigma*np.sqrt(x.size/Delta))"
   ]
  },
  {
   "cell_type": "code",
   "execution_count": 3,
   "metadata": {},
   "outputs": [],
   "source": [
    "amb = np.array([72,95,66,71,54,96,79,86,78,84])"
   ]
  },
  {
   "cell_type": "code",
   "execution_count": 4,
   "metadata": {},
   "outputs": [],
   "source": [
    "amb = amb/300"
   ]
  },
  {
   "cell_type": "markdown",
   "metadata": {},
   "source": [
    "### Cesium-137"
   ]
  },
  {
   "cell_type": "code",
   "execution_count": 5,
   "metadata": {},
   "outputs": [],
   "source": [
    "cs2 = np.array([477,414,448,1325,1298,1290,4339])\n",
    "t = np.array([60,60,60,180,180,180,600])"
   ]
  },
  {
   "cell_type": "code",
   "execution_count": 6,
   "metadata": {},
   "outputs": [],
   "source": [
    "cs2 = cs2/t"
   ]
  },
  {
   "cell_type": "code",
   "execution_count": 7,
   "metadata": {},
   "outputs": [
    {
     "data": {
      "text/plain": [
       "array([7.95      , 6.9       , 7.46666667, 7.36111111, 7.21111111,\n",
       "       7.16666667, 7.23166667])"
      ]
     },
     "execution_count": 7,
     "metadata": {},
     "output_type": "execute_result"
    }
   ],
   "source": [
    "cs2"
   ]
  },
  {
   "cell_type": "code",
   "execution_count": 8,
   "metadata": {},
   "outputs": [],
   "source": [
    "cs4 = np.array([193,184,184,600,593,583])\n",
    "t = np.array([60,60,60,180,180,180])"
   ]
  },
  {
   "cell_type": "code",
   "execution_count": 9,
   "metadata": {},
   "outputs": [],
   "source": [
    "cs4 = cs4/t"
   ]
  },
  {
   "cell_type": "code",
   "execution_count": 10,
   "metadata": {},
   "outputs": [],
   "source": [
    "cs8 = np.array([64,58,66,216,208,182])\n",
    "t = np.array([60,60,60,180,180,180])"
   ]
  },
  {
   "cell_type": "code",
   "execution_count": 11,
   "metadata": {},
   "outputs": [],
   "source": [
    "cs8 = cs8/t"
   ]
  },
  {
   "cell_type": "code",
   "execution_count": 12,
   "metadata": {},
   "outputs": [
    {
     "data": {
      "text/plain": [
       "array([1.06666667, 0.96666667, 1.1       , 1.2       , 1.15555556,\n",
       "       1.01111111])"
      ]
     },
     "execution_count": 12,
     "metadata": {},
     "output_type": "execute_result"
    }
   ],
   "source": [
    "cs8"
   ]
  },
  {
   "cell_type": "code",
   "execution_count": 13,
   "metadata": {},
   "outputs": [],
   "source": [
    "amb = np.average(amb)"
   ]
  },
  {
   "cell_type": "code",
   "execution_count": 14,
   "metadata": {},
   "outputs": [],
   "source": [
    "cs8 = cs8-amb\n",
    "cs4 = cs4-amb\n",
    "cs2 = cs2-amb"
   ]
  },
  {
   "cell_type": "code",
   "execution_count": 15,
   "metadata": {},
   "outputs": [],
   "source": [
    "r = np.array([2,4,8])\n",
    "i = np.array([np.average(cs2),np.average(cs4),np.average(cs8)])"
   ]
  },
  {
   "cell_type": "code",
   "execution_count": 16,
   "metadata": {},
   "outputs": [],
   "source": [
    "z=np.polyfit(np.log(r),np.log(i),1)\n",
    "f=np.poly1d(z)"
   ]
  },
  {
   "cell_type": "code",
   "execution_count": 17,
   "metadata": {},
   "outputs": [],
   "source": [
    "def inv_square (x,a):\n",
    "    return (a/(x**2))\n",
    "def free_fit (x,a,b):\n",
    "    return (a/(x**b))\n",
    "def log_fit (x,a):\n",
    "    return (a/(x**(-z[0])))"
   ]
  },
  {
   "cell_type": "code",
   "execution_count": 18,
   "metadata": {},
   "outputs": [],
   "source": [
    "popt,cov = curve_fit(inv_square,r,i)"
   ]
  },
  {
   "cell_type": "code",
   "execution_count": 19,
   "metadata": {},
   "outputs": [
    {
     "data": {
      "image/png": "[encoded data removed]",
      "text/plain": [
       "<Figure size 432x288 with 1 Axes>"
      ]
     },
     "metadata": {
      "needs_background": "light"
     },
     "output_type": "display_data"
    }
   ],
   "source": [
    "x = np.linspace(2,8,30)\n",
    "plt.scatter(r,i)\n",
    "plt.plot(x,inv_square(x,popt[0]))\n",
    "plt.xlabel('Source separation (cm)')\n",
    "plt.ylabel('Counts per second')\n",
    "plt.show()"
   ]
  },
  {
   "cell_type": "code",
   "execution_count": 20,
   "metadata": {},
   "outputs": [
    {
     "data": {
      "image/png": "[encoded data removed]",
      "text/plain": [
       "<Figure size 432x288 with 1 Axes>"
      ]
     },
     "metadata": {
      "needs_background": "light"
     },
     "output_type": "display_data"
    }
   ],
   "source": [
    "plt.scatter(r,i)\n",
    "plt.plot(x,inv_square(x,popt[0]))\n",
    "plt.xlabel('Source separation (cm)')\n",
    "plt.ylabel('Counts per second')\n",
    "plt.xscale('log')\n",
    "plt.yscale('log')\n",
    "plt.show()"
   ]
  },
  {
   "cell_type": "code",
   "execution_count": 21,
   "metadata": {},
   "outputs": [],
   "source": [
    "popt,cov = curve_fit(log_fit,r,i)"
   ]
  },
  {
   "cell_type": "code",
   "execution_count": 22,
   "metadata": {},
   "outputs": [
    {
     "data": {
      "image/png": "[encoded data removed]",
      "text/plain": [
       "<Figure size 432x288 with 1 Axes>"
      ]
     },
     "metadata": {
      "needs_background": "light"
     },
     "output_type": "display_data"
    }
   ],
   "source": [
    "plt.scatter(r,i)\n",
    "plt.plot(x,log_fit(x,popt[0]))\n",
    "plt.xlabel('Source separation (cm)')\n",
    "plt.ylabel('Counts per second')\n",
    "plt.show()"
   ]
  },
  {
   "cell_type": "code",
   "execution_count": 23,
   "metadata": {},
   "outputs": [
    {
     "data": {
      "image/png": "[encoded data removed]",
      "text/plain": [
       "<Figure size 432x288 with 1 Axes>"
      ]
     },
     "metadata": {
      "needs_background": "light"
     },
     "output_type": "display_data"
    }
   ],
   "source": [
    "plt.scatter(r,i)\n",
    "plt.plot(x,log_fit(x,popt[0]))\n",
    "plt.xlabel('Source separation (cm)')\n",
    "plt.ylabel('Counts per second')\n",
    "plt.xscale('log')\n",
    "plt.yscale('log')\n",
    "plt.show()"
   ]
  },
  {
   "cell_type": "code",
   "execution_count": 24,
   "metadata": {},
   "outputs": [],
   "source": [
    "popt,cov = curve_fit(free_fit,r,i)"
   ]
  },
  {
   "cell_type": "code",
   "execution_count": 25,
   "metadata": {},
   "outputs": [
    {
     "data": {
      "image/png": "[encoded data removed]",
      "text/plain": [
       "<Figure size 432x288 with 1 Axes>"
      ]
     },
     "metadata": {
      "needs_background": "light"
     },
     "output_type": "display_data"
    }
   ],
   "source": [
    "plt.scatter(r,i)\n",
    "plt.plot(x,free_fit(x,popt[0],popt[1]))\n",
    "plt.xlabel('Source separation (cm)')\n",
    "plt.ylabel('Counts per second')\n",
    "plt.show()"
   ]
  },
  {
   "cell_type": "code",
   "execution_count": 26,
   "metadata": {},
   "outputs": [
    {
     "data": {
      "image/png": "[encoded data removed]",
      "text/plain": [
       "<Figure size 432x288 with 1 Axes>"
      ]
     },
     "metadata": {
      "needs_background": "light"
     },
     "output_type": "display_data"
    }
   ],
   "source": [
    "plt.scatter(r,i)\n",
    "plt.plot(x,free_fit(x,popt[0],popt[1]))\n",
    "plt.xlabel('Source separation (cm)')\n",
    "plt.ylabel('Counts per second')\n",
    "plt.xscale('log')\n",
    "plt.yscale('log')\n",
    "plt.show()"
   ]
  },
  {
   "cell_type": "code",
   "execution_count": 27,
   "metadata": {},
   "outputs": [
    {
     "data": {
      "text/plain": [
       "0.16572493292415508"
      ]
     },
     "execution_count": 27,
     "metadata": {},
     "output_type": "execute_result"
    }
   ],
   "source": [
    "slope_unc(np.log(r),np.log(i),f)"
   ]
  },
  {
   "cell_type": "code",
   "execution_count": 28,
   "metadata": {},
   "outputs": [
    {
     "data": {
      "text/plain": [
       "array([-1.55100684,  3.09675022])"
      ]
     },
     "execution_count": 28,
     "metadata": {},
     "output_type": "execute_result"
    }
   ],
   "source": [
    "z"
   ]
  },
  {
   "cell_type": "code",
   "execution_count": 29,
   "metadata": {},
   "outputs": [],
   "source": [
    "A = np.pi*(2.125**2)"
   ]
  },
  {
   "cell_type": "code",
   "execution_count": 30,
   "metadata": {},
   "outputs": [],
   "source": [
    "solid_ang = A/(r**2)"
   ]
  },
  {
   "cell_type": "code",
   "execution_count": 31,
   "metadata": {},
   "outputs": [],
   "source": [
    "tot = (i*4*np.pi)/solid_ang"
   ]
  },
  {
   "cell_type": "code",
   "execution_count": 32,
   "metadata": {},
   "outputs": [
    {
     "data": {
      "text/plain": [
       "array([25.03808513, 41.70329566, 46.65755017])"
      ]
     },
     "execution_count": 32,
     "metadata": {},
     "output_type": "execute_result"
    }
   ],
   "source": [
    "tot"
   ]
  },
  {
   "cell_type": "markdown",
   "metadata": {},
   "source": [
    "### Barium-133"
   ]
  },
  {
   "cell_type": "code",
   "execution_count": 33,
   "metadata": {},
   "outputs": [],
   "source": [
    "ba2 = np.array([86,78,102,301,286,303,1006])\n",
    "t = np.array([60,60,60,180,180,180,600])"
   ]
  },
  {
   "cell_type": "code",
   "execution_count": 34,
   "metadata": {},
   "outputs": [],
   "source": [
    "ba2 = ba2/t"
   ]
  },
  {
   "cell_type": "code",
   "execution_count": 35,
   "metadata": {},
   "outputs": [],
   "source": [
    "ba4 = np.array([79,81,78,218,236,224])\n",
    "t = np.array([60,60,60,180,180,180])"
   ]
  },
  {
   "cell_type": "code",
   "execution_count": 36,
   "metadata": {},
   "outputs": [],
   "source": [
    "ba4 = ba4/t"
   ]
  },
  {
   "cell_type": "code",
   "execution_count": 37,
   "metadata": {},
   "outputs": [],
   "source": [
    "ba2 = ba2-amb\n",
    "ba4 = ba4-amb"
   ]
  },
  {
   "cell_type": "code",
   "execution_count": 38,
   "metadata": {},
   "outputs": [],
   "source": [
    "ba = np.array([np.average(ba2),np.average(ba4)])\n",
    "R = np.array([2,4])"
   ]
  },
  {
   "cell_type": "code",
   "execution_count": 39,
   "metadata": {},
   "outputs": [
    {
     "data": {
      "image/png": "[encoded data removed]",
      "text/plain": [
       "<Figure size 432x288 with 1 Axes>"
      ]
     },
     "metadata": {
      "needs_background": "light"
     },
     "output_type": "display_data"
    }
   ],
   "source": [
    "plt.scatter(R,ba)\n",
    "plt.xlabel('Source separation (cm)')\n",
    "plt.ylabel('Counts per second')\n",
    "plt.show()"
   ]
  },
  {
   "cell_type": "code",
   "execution_count": 40,
   "metadata": {},
   "outputs": [],
   "source": [
    "TOT = ba*4*np.pi/solid_ang[:2]"
   ]
  },
  {
   "cell_type": "code",
   "execution_count": 41,
   "metadata": {},
   "outputs": [
    {
     "data": {
      "text/plain": [
       "array([ 4.67310024, 14.57772857])"
      ]
     },
     "execution_count": 41,
     "metadata": {},
     "output_type": "execute_result"
    }
   ],
   "source": [
    "TOT"
   ]
  },
  {
   "cell_type": "markdown",
   "metadata": {},
   "source": [
    "## Shielding"
   ]
  },
  {
   "cell_type": "code",
   "execution_count": 42,
   "metadata": {},
   "outputs": [],
   "source": [
    "amb = np.array([111,179])\n",
    "t = np.array([240,480])"
   ]
  },
  {
   "cell_type": "code",
   "execution_count": 43,
   "metadata": {},
   "outputs": [],
   "source": [
    "amb = amb/t"
   ]
  },
  {
   "cell_type": "code",
   "execution_count": 44,
   "metadata": {},
   "outputs": [],
   "source": [
    "ba_r1 = np.array([219,424])\n",
    "ba_r2 = np.array([209,407])\n",
    "ba_r3 = np.array([132,267])"
   ]
  },
  {
   "cell_type": "code",
   "execution_count": 45,
   "metadata": {},
   "outputs": [],
   "source": [
    "sr_r1 = np.array([121,224])\n",
    "sr_r2 = np.array([116,237])\n",
    "sr_r3 = np.array([99,195])"
   ]
  },
  {
   "cell_type": "code",
   "execution_count": 46,
   "metadata": {},
   "outputs": [],
   "source": [
    "cs_r1 = np.array([294,606])\n",
    "cs_r2 = np.array([308,589])\n",
    "cs_r3 = np.array([270,516])"
   ]
  },
  {
   "cell_type": "code",
   "execution_count": 47,
   "metadata": {},
   "outputs": [],
   "source": [
    "cd_r1 = np.array([89,178])\n",
    "cd_r2 = np.array([75,137])\n",
    "cd_r3 = np.array([81,172])"
   ]
  },
  {
   "cell_type": "code",
   "execution_count": 48,
   "metadata": {},
   "outputs": [],
   "source": [
    "uk_r1 = np.array([213,412])\n",
    "uk_r2 = np.array([200,409])\n",
    "uk_r3 = np.array([185,399])"
   ]
  },
  {
   "cell_type": "code",
   "execution_count": 49,
   "metadata": {},
   "outputs": [],
   "source": [
    "ba_r1 = ba_r1/t\n",
    "ba_r2 = ba_r2/t\n",
    "ba_r3 = ba_r3/t\n",
    "\n",
    "sr_r1 = sr_r1/t\n",
    "sr_r2 = sr_r2/t\n",
    "sr_r3 = sr_r3/t\n",
    "\n",
    "cs_r1 = cs_r1/t\n",
    "cs_r2 = cs_r2/t\n",
    "cs_r3 = cs_r3/t\n",
    "\n",
    "cd_r1 = cd_r1/t\n",
    "cd_r2 = cd_r2/t\n",
    "cd_r3 = cd_r3/t\n",
    "\n",
    "uk_r1 = uk_r1/t\n",
    "uk_r2 = uk_r2/t\n",
    "uk_r3 = uk_r3/t"
   ]
  },
  {
   "cell_type": "code",
   "execution_count": 50,
   "metadata": {},
   "outputs": [],
   "source": [
    "ba_r1 = ba_r1-amb\n",
    "ba_r2 = ba_r2-amb\n",
    "ba_r3 = ba_r3-amb\n",
    "\n",
    "sr_r1 = sr_r1-amb\n",
    "sr_r2 = sr_r2-amb\n",
    "sr_r3 = sr_r3-amb\n",
    "\n",
    "cs_r1 = cs_r1-amb\n",
    "cs_r2 = cs_r2-amb\n",
    "cs_r3 = cs_r3-amb\n",
    "\n",
    "cd_r1 = cd_r1-amb\n",
    "cd_r2 = cd_r2-amb\n",
    "cd_r3 = cd_r3-amb\n",
    "\n",
    "uk_r1 = uk_r1-amb\n",
    "uk_r2 = uk_r2-amb\n",
    "uk_r3 = uk_r3-amb"
   ]
  },
  {
   "cell_type": "code",
   "execution_count": 51,
   "metadata": {},
   "outputs": [],
   "source": [
    "ba_gamma = ba_r3/ba_r1\n",
    "ba_beta = ba_r2/ba_r1-ba_gamma\n",
    "ba_alpha = 1-ba_beta-ba_gamma\n",
    "\n",
    "sr_gamma = sr_r3/sr_r1\n",
    "sr_beta = sr_r2/sr_r1-sr_gamma\n",
    "sr_alpha = 1-sr_beta-sr_gamma\n",
    "\n",
    "cs_gamma = cs_r3/cs_r1\n",
    "cs_beta = cs_r2/cs_r1-cs_gamma\n",
    "cs_alpha = 1-cs_beta-cs_gamma\n",
    "\n",
    "cd_gamma = cd_r3/cd_r1\n",
    "cd_beta = cd_r2/cd_r1-cd_gamma\n",
    "cd_alpha = 1-cd_beta-cd_gamma\n",
    "\n",
    "uk_gamma = uk_r3/uk_r1\n",
    "uk_beta = uk_r2/uk_r1-uk_gamma\n",
    "uk_alpha = 1-uk_beta-uk_gamma"
   ]
  },
  {
   "cell_type": "code",
   "execution_count": null,
   "metadata": {},
   "outputs": [],
   "source": []
  }
 ],
 "metadata": {
  "kernelspec": {
   "display_name": "Python 3",
   "language": "python",
   "name": "python3"
  },
  "language_info": {
   "codemirror_mode": {
    "name": "ipython",
    "version": 3
   },
   "file_extension": ".py",
   "mimetype": "text/x-python",
   "name": "python",
   "nbconvert_exporter": "python",
   "pygments_lexer": "ipython3",
   "version": "3.7.3"
  }
 },
 "nbformat": 4,
 "nbformat_minor": 4
}
